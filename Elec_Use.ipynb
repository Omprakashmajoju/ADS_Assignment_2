{
 "cells": [
  {
   "cell_type": "code",
   "execution_count": 1,
   "id": "644eeb04",
   "metadata": {},
   "outputs": [
    {
     "name": "stdout",
     "output_type": "stream",
     "text": [
      "Requirement already satisfied: world_bank_data in c:\\users\\ompra\\anaconda3\\lib\\site-packages (0.1.3)\n",
      "Requirement already satisfied: pandas in c:\\users\\ompra\\anaconda3\\lib\\site-packages (from world_bank_data) (1.3.4)\n",
      "Requirement already satisfied: cachetools in c:\\users\\ompra\\anaconda3\\lib\\site-packages (from world_bank_data) (5.0.0)\n",
      "Requirement already satisfied: requests in c:\\users\\ompra\\anaconda3\\lib\\site-packages (from world_bank_data) (2.26.0)\n",
      "Requirement already satisfied: pytz>=2017.3 in c:\\users\\ompra\\anaconda3\\lib\\site-packages (from pandas->world_bank_data) (2021.3)\n",
      "Requirement already satisfied: python-dateutil>=2.7.3 in c:\\users\\ompra\\anaconda3\\lib\\site-packages (from pandas->world_bank_data) (2.8.2)\n",
      "Requirement already satisfied: numpy>=1.17.3 in c:\\users\\ompra\\anaconda3\\lib\\site-packages (from pandas->world_bank_data) (1.20.3)\n",
      "Requirement already satisfied: six>=1.5 in c:\\users\\ompra\\anaconda3\\lib\\site-packages (from python-dateutil>=2.7.3->pandas->world_bank_data) (1.16.0)\n",
      "Requirement already satisfied: idna<4,>=2.5 in c:\\users\\ompra\\anaconda3\\lib\\site-packages (from requests->world_bank_data) (3.2)\n",
      "Requirement already satisfied: certifi>=2017.4.17 in c:\\users\\ompra\\anaconda3\\lib\\site-packages (from requests->world_bank_data) (2021.10.8)\n",
      "Requirement already satisfied: urllib3<1.27,>=1.21.1 in c:\\users\\ompra\\anaconda3\\lib\\site-packages (from requests->world_bank_data) (1.26.7)\n",
      "Requirement already satisfied: charset-normalizer~=2.0.0 in c:\\users\\ompra\\anaconda3\\lib\\site-packages (from requests->world_bank_data) (2.0.4)\n",
      "Note: you may need to restart the kernel to use updated packages.\n"
     ]
    }
   ],
   "source": [
    "pip install world_bank_data"
   ]
  },
  {
   "cell_type": "code",
   "execution_count": 2,
   "id": "f02e5900",
   "metadata": {},
   "outputs": [
    {
     "name": "stdout",
     "output_type": "stream",
     "text": [
      "Requirement already satisfied: wbgapi in c:\\users\\ompra\\anaconda3\\lib\\site-packages (1.0.7)\n",
      "Requirement already satisfied: tabulate in c:\\users\\ompra\\anaconda3\\lib\\site-packages (from wbgapi) (0.8.9)\n",
      "Requirement already satisfied: PyYAML in c:\\users\\ompra\\anaconda3\\lib\\site-packages (from wbgapi) (6.0)\n",
      "Requirement already satisfied: requests in c:\\users\\ompra\\anaconda3\\lib\\site-packages (from wbgapi) (2.26.0)\n",
      "Requirement already satisfied: idna<4,>=2.5 in c:\\users\\ompra\\anaconda3\\lib\\site-packages (from requests->wbgapi) (3.2)\n",
      "Requirement already satisfied: urllib3<1.27,>=1.21.1 in c:\\users\\ompra\\anaconda3\\lib\\site-packages (from requests->wbgapi) (1.26.7)\n",
      "Requirement already satisfied: certifi>=2017.4.17 in c:\\users\\ompra\\anaconda3\\lib\\site-packages (from requests->wbgapi) (2021.10.8)\n",
      "Requirement already satisfied: charset-normalizer~=2.0.0 in c:\\users\\ompra\\anaconda3\\lib\\site-packages (from requests->wbgapi) (2.0.4)\n",
      "Note: you may need to restart the kernel to use updated packages.\n"
     ]
    }
   ],
   "source": [
    "pip install wbgapi"
   ]
  },
  {
   "cell_type": "code",
   "execution_count": 4,
   "id": "bf2ee1bc",
   "metadata": {},
   "outputs": [
    {
     "name": "stdout",
     "output_type": "stream",
     "text": [
      "Collecting wbdata\n",
      "  Downloading wbdata-0.3.0-py3-none-any.whl (14 kB)\n",
      "Requirement already satisfied: appdirs<2.0,>=1.4 in c:\\users\\ompra\\anaconda3\\lib\\site-packages (from wbdata) (1.4.4)\n",
      "Requirement already satisfied: decorator>=4.0 in c:\\users\\ompra\\anaconda3\\lib\\site-packages (from wbdata) (5.1.0)\n",
      "Requirement already satisfied: tabulate>=0.8.5 in c:\\users\\ompra\\anaconda3\\lib\\site-packages (from wbdata) (0.8.9)\n",
      "Requirement already satisfied: requests>=2.0 in c:\\users\\ompra\\anaconda3\\lib\\site-packages (from wbdata) (2.26.0)\n",
      "Requirement already satisfied: idna<4,>=2.5 in c:\\users\\ompra\\anaconda3\\lib\\site-packages (from requests>=2.0->wbdata) (3.2)\n",
      "Requirement already satisfied: certifi>=2017.4.17 in c:\\users\\ompra\\anaconda3\\lib\\site-packages (from requests>=2.0->wbdata) (2021.10.8)\n",
      "Requirement already satisfied: urllib3<1.27,>=1.21.1 in c:\\users\\ompra\\anaconda3\\lib\\site-packages (from requests>=2.0->wbdata) (1.26.7)\n",
      "Requirement already satisfied: charset-normalizer~=2.0.0 in c:\\users\\ompra\\anaconda3\\lib\\site-packages (from requests>=2.0->wbdata) (2.0.4)\n",
      "Installing collected packages: wbdata\n",
      "Successfully installed wbdata-0.3.0\n",
      "Note: you may need to restart the kernel to use updated packages.\n"
     ]
    }
   ],
   "source": [
    "pip install wbdata"
   ]
  },
  {
   "cell_type": "code",
   "execution_count": 5,
   "id": "4cc9bada",
   "metadata": {},
   "outputs": [
    {
     "data": {
      "text/plain": [
       "  id  value\n",
       "----  -------------------------------\n",
       "   1  Agriculture & Rural Development\n",
       "   2  Aid Effectiveness\n",
       "   3  Economy & Growth\n",
       "   4  Education\n",
       "   5  Energy & Mining\n",
       "   6  Environment\n",
       "   7  Financial Sector\n",
       "   8  Health\n",
       "   9  Infrastructure\n",
       "  10  Social Protection & Labor\n",
       "  11  Poverty\n",
       "  12  Private Sector\n",
       "  13  Public Sector\n",
       "  14  Science & Technology\n",
       "  15  Social Development\n",
       "  16  Urban Development\n",
       "  17  Gender\n",
       "  18  Millenium development goals\n",
       "  19  Climate Change\n",
       "  20  External Debt\n",
       "  21  Trade"
      ]
     },
     "execution_count": 5,
     "metadata": {},
     "output_type": "execute_result"
    }
   ],
   "source": [
    "import pandas as pd\n",
    "import world_bank_data as wb\n",
    "import wbgapi as wb\n",
    "import wbdata as wb\n",
    "pd.set_option('display.max_rows', 6)\n",
    "wb.get_topic()"
   ]
  },
  {
   "cell_type": "code",
   "execution_count": 6,
   "id": "825d2a02",
   "metadata": {},
   "outputs": [
    {
     "data": {
      "text/plain": [
       "id                    name\n",
       "--------------------  -----------------------------------------------------------------------------------\n",
       "EG.EGY.PRIM.PP.KD     Energy intensity level of primary energy (MJ/$2011 PPP GDP)\n",
       "EG.ELC.ACCS.RU.ZS     Access to electricity, rural (% of rural population)\n",
       "EG.ELC.ACCS.UR.ZS     Access to electricity, urban (% of urban population)\n",
       "EG.ELC.ACCS.ZS        Access to electricity (% of population)\n",
       "EG.ELC.COAL.ZS        Electricity production from coal sources (% of total)\n",
       "EG.ELC.FOSL.ZS        Electricity production from oil, gas and coal sources (% of total)\n",
       "EG.ELC.HYRO.ZS        Electricity production from hydroelectric sources (% of total)\n",
       "EG.ELC.LOSS.ZS        Electric power transmission and distribution losses (% of output)\n",
       "EG.ELC.NGAS.ZS        Electricity production from natural gas sources (% of total)\n",
       "EG.ELC.NUCL.ZS        Electricity production from nuclear sources (% of total)\n",
       "EG.ELC.PETR.ZS        Electricity production from oil sources (% of total)\n",
       "EG.ELC.RNEW.ZS        Renewable electricity output (% of total electricity output)\n",
       "EG.ELC.RNWX.KH        Electricity production from renewable sources, excluding hydroelectric (kWh)\n",
       "EG.ELC.RNWX.ZS        Electricity production from renewable sources, excluding hydroelectric (% of total)\n",
       "EG.FEC.RNEW.ZS        Renewable energy consumption (% of total final energy consumption)\n",
       "EG.GDP.PUSE.KO.PP     GDP per unit of energy use (PPP $ per kg of oil equivalent)\n",
       "EG.GDP.PUSE.KO.PP.KD  GDP per unit of energy use (constant 2017 PPP $ per kg of oil equivalent)\n",
       "EG.IMP.CONS.ZS        Energy imports, net (% of energy use)\n",
       "EG.NSF.ACCS.RU.ZS     Access to non-solid fuel, rural (% of rural population)\n",
       "EG.NSF.ACCS.UR.ZS     Access to non-solid fuel, urban (% of urban population)\n",
       "EG.NSF.ACCS.ZS        Access to non-solid fuel (% of population)\n",
       "EG.USE.COMM.CL.ZS     Alternative and nuclear energy (% of total energy use)\n",
       "EG.USE.COMM.FO.ZS     Fossil fuel energy consumption (% of total)\n",
       "EG.USE.COMM.GD.PP.KD  Energy use (kg of oil equivalent) per $1,000 GDP (constant 2017 PPP)\n",
       "EG.USE.CRNW.ZS        Combustible renewables and waste (% of total energy)\n",
       "EG.USE.ELEC.KH.PC     Electric power consumption (kWh per capita)\n",
       "EG.USE.PCAP.KG.OE     Energy use (kg of oil equivalent per capita)\n",
       "EN.ATM.CO2E.GF.ZS     CO2 emissions from gaseous fuel consumption (% of total)\n",
       "EN.ATM.CO2E.LF.KT     CO2 emissions from liquid fuel consumption (kt)\n",
       "EN.ATM.METH.EG.KT.CE  Methane emissions in energy sector (thousand metric tons of CO2 equivalent)\n",
       "EN.ATM.METH.EG.ZS     Energy related methane emissions (% of total)\n",
       "EN.ATM.NOXE.EG.KT.CE  Nitrous oxide emissions in energy sector (thousand metric tons of CO2 equivalent)\n",
       "EN.ATM.NOXE.EG.ZS     Nitrous oxide emissions in energy sector (% of total)\n",
       "EP.PMP.DESL.CD        Pump price for diesel fuel (US$ per liter)\n",
       "EP.PMP.SGAS.CD        Pump price for gasoline (US$ per liter)\n",
       "IC.ELC.DURS           Time to obtain an electrical connection (days)\n",
       "IC.ELC.TIME           Time required to get electricity (days)\n",
       "IC.FRM.BNKS.ZS        Firms using banks to finance investment (% of firms)\n",
       "IC.FRM.OUTG.ZS        Value lost due to electrical outages (% of sales for affected firms)\n",
       "IE.PPI.ENGY.CD        Investment in energy with private participation (current US$)\n",
       "NY.ADJ.DMIN.CD        Adjusted savings: mineral depletion (current US$)\n",
       "NY.ADJ.DMIN.GN.ZS     Adjusted savings: mineral depletion (% of GNI)\n",
       "NY.ADJ.DNGY.CD        Adjusted savings: energy depletion (current US$)\n",
       "NY.ADJ.DNGY.GN.ZS     Adjusted savings: energy depletion (% of GNI)\n",
       "NY.ADJ.DRES.GN.ZS     Adjusted savings: natural resources depletion (% of GNI)\n",
       "NY.GDP.MINR.RT.ZS     Mineral rents (% of GDP)\n",
       "NY.GDP.NGAS.RT.ZS     Natural gas rents (% of GDP)\n",
       "NY.GDP.PETR.RT.ZS     Oil rents (% of GDP)\n",
       "NY.GDP.TOTL.RT.ZS     Total natural resources rents (% of GDP)\n",
       "TM.VAL.FUEL.ZS.UN     Fuel imports (% of merchandise imports)\n",
       "TM.VAL.MMTL.ZS.UN     Ores and metals imports (% of merchandise imports)\n",
       "TX.VAL.FUEL.ZS.UN     Fuel exports (% of merchandise exports)\n",
       "TX.VAL.MMTL.ZS.UN     Ores and metals exports (% of merchandise exports)"
      ]
     },
     "execution_count": 6,
     "metadata": {},
     "output_type": "execute_result"
    }
   ],
   "source": [
    "wb.get_indicator(topic=5)"
   ]
  },
  {
   "cell_type": "code",
   "execution_count": 7,
   "id": "dc3fffde",
   "metadata": {},
   "outputs": [],
   "source": [
    "indicators = {\"EG.ELC.ACCS.ZS\":\"Access_to_electricity(% of population\", \"EG.USE.ELEC.KH.PC\":\"Electric power consumption (kWh per capita)\",\"EG.USE.PCAP.KG.OE\":\"Energy use (kg of oil equivalent per capita)\", \"EN.ATM.CO2E.GF.ZS\":\"CO2 emissions from gaseous fuel consumption (% of total)\", \"EN.ATM.CO2E.LF.KT\":\"CO2 emissions from liquid fuel consumption (kt)\"}"
   ]
  },
  {
   "cell_type": "code",
   "execution_count": 8,
   "id": "dbd6d395",
   "metadata": {},
   "outputs": [],
   "source": [
    "LAMcountries = ['ARG','BLZ','BOL','BRA','CHL','COL','CRI','CUB','SLV','GTM','GUY','HTI','HND',\n",
    "          'JAM','MEX','NIC','PAN','PRY','PER','PRI','SUR','URY','VEN']\n",
    "NAMcountries=['USA','CAN']\n",
    "#regions=['LCN','WLD','NAC'] #WORLD = WLD; LAT AM AND CARRIBEAN = LCN; NAC=North America\n",
    "regions=['NAC','WLD','LCN']\n",
    "allcountries=LAMcountries+NAMcountries\n",
    "allregions=allcountries+regions"
   ]
  },
  {
   "cell_type": "code",
   "execution_count": null,
   "id": "dd2e3536",
   "metadata": {},
   "outputs": [],
   "source": []
  }
 ],
 "metadata": {
  "kernelspec": {
   "display_name": "Python 3 (ipykernel)",
   "language": "python",
   "name": "python3"
  },
  "language_info": {
   "codemirror_mode": {
    "name": "ipython",
    "version": 3
   },
   "file_extension": ".py",
   "mimetype": "text/x-python",
   "name": "python",
   "nbconvert_exporter": "python",
   "pygments_lexer": "ipython3",
   "version": "3.9.7"
  }
 },
 "nbformat": 4,
 "nbformat_minor": 5
}
