{
 "cells": [
  {
   "cell_type": "code",
   "execution_count": 1,
   "id": "a85e5382",
   "metadata": {},
   "outputs": [
    {
     "name": "stdout",
     "output_type": "stream",
     "text": [
      "Requirement already satisfied: world_bank_data in c:\\users\\ompra\\anaconda3\\lib\\site-packages (0.1.3)\n",
      "Requirement already satisfied: pandas in c:\\users\\ompra\\anaconda3\\lib\\site-packages (from world_bank_data) (1.3.4)\n",
      "Requirement already satisfied: cachetools in c:\\users\\ompra\\anaconda3\\lib\\site-packages (from world_bank_data) (5.0.0)\n",
      "Requirement already satisfied: requests in c:\\users\\ompra\\anaconda3\\lib\\site-packages (from world_bank_data) (2.26.0)\n",
      "Requirement already satisfied: pytz>=2017.3 in c:\\users\\ompra\\anaconda3\\lib\\site-packages (from pandas->world_bank_data) (2021.3)\n",
      "Requirement already satisfied: python-dateutil>=2.7.3 in c:\\users\\ompra\\anaconda3\\lib\\site-packages (from pandas->world_bank_data) (2.8.2)\n",
      "Requirement already satisfied: numpy>=1.17.3 in c:\\users\\ompra\\anaconda3\\lib\\site-packages (from pandas->world_bank_data) (1.20.3)\n",
      "Requirement already satisfied: six>=1.5 in c:\\users\\ompra\\anaconda3\\lib\\site-packages (from python-dateutil>=2.7.3->pandas->world_bank_data) (1.16.0)\n",
      "Requirement already satisfied: idna<4,>=2.5 in c:\\users\\ompra\\anaconda3\\lib\\site-packages (from requests->world_bank_data) (3.2)\n",
      "Requirement already satisfied: certifi>=2017.4.17 in c:\\users\\ompra\\anaconda3\\lib\\site-packages (from requests->world_bank_data) (2021.10.8)\n",
      "Requirement already satisfied: urllib3<1.27,>=1.21.1 in c:\\users\\ompra\\anaconda3\\lib\\site-packages (from requests->world_bank_data) (1.26.7)\n",
      "Requirement already satisfied: charset-normalizer~=2.0.0 in c:\\users\\ompra\\anaconda3\\lib\\site-packages (from requests->world_bank_data) (2.0.4)\n",
      "Note: you may need to restart the kernel to use updated packages.\n"
     ]
    }
   ],
   "source": [
    "pip install world_bank_data"
   ]
  },
  {
   "cell_type": "code",
   "execution_count": 2,
   "id": "e02e2cdc",
   "metadata": {},
   "outputs": [
    {
     "name": "stdout",
     "output_type": "stream",
     "text": [
      "Requirement already satisfied: wbgapi in c:\\users\\ompra\\anaconda3\\lib\\site-packages (1.0.7)\n",
      "Requirement already satisfied: tabulate in c:\\users\\ompra\\anaconda3\\lib\\site-packages (from wbgapi) (0.8.9)\n",
      "Requirement already satisfied: PyYAML in c:\\users\\ompra\\anaconda3\\lib\\site-packages (from wbgapi) (6.0)\n",
      "Requirement already satisfied: requests in c:\\users\\ompra\\anaconda3\\lib\\site-packages (from wbgapi) (2.26.0)\n",
      "Requirement already satisfied: idna<4,>=2.5 in c:\\users\\ompra\\anaconda3\\lib\\site-packages (from requests->wbgapi) (3.2)\n",
      "Requirement already satisfied: urllib3<1.27,>=1.21.1 in c:\\users\\ompra\\anaconda3\\lib\\site-packages (from requests->wbgapi) (1.26.7)\n",
      "Requirement already satisfied: certifi>=2017.4.17 in c:\\users\\ompra\\anaconda3\\lib\\site-packages (from requests->wbgapi) (2021.10.8)\n",
      "Requirement already satisfied: charset-normalizer~=2.0.0 in c:\\users\\ompra\\anaconda3\\lib\\site-packages (from requests->wbgapi) (2.0.4)\n",
      "Note: you may need to restart the kernel to use updated packages.\n"
     ]
    }
   ],
   "source": [
    "pip install wbgapi"
   ]
  },
  {
   "cell_type": "code",
   "execution_count": null,
   "id": "74cf8d0e",
   "metadata": {},
   "outputs": [],
   "source": []
  }
 ],
 "metadata": {
  "kernelspec": {
   "display_name": "Python 3 (ipykernel)",
   "language": "python",
   "name": "python3"
  },
  "language_info": {
   "codemirror_mode": {
    "name": "ipython",
    "version": 3
   },
   "file_extension": ".py",
   "mimetype": "text/x-python",
   "name": "python",
   "nbconvert_exporter": "python",
   "pygments_lexer": "ipython3",
   "version": "3.9.7"
  }
 },
 "nbformat": 4,
 "nbformat_minor": 5
}
